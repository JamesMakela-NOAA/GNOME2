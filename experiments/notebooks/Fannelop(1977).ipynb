{
 "metadata": {
  "name": "",
  "signature": "sha256:82f5760e2527d8081d8105ee8219e262b1510c4d178b292b5651d4bd3ea8be43"
 },
 "nbformat": 3,
 "nbformat_minor": 0,
 "worksheets": [
  {
   "cells": [
    {
     "cell_type": "heading",
     "level": 1,
     "metadata": {},
     "source": [
      "Flow Processes and Leak Rates Associated with Broken Underwater Oil Pipelines"
     ]
    },
    {
     "cell_type": "markdown",
     "metadata": {},
     "source": [
      "A sudden pressure change, such as that resulting from a break, will propagate with a characteristic acoustic speed (a) which can be calculated from an equation well known in hydraulic waterhammer analysis"
     ]
    },
    {
     "cell_type": "markdown",
     "metadata": {
      "slideshow": {
       "slide_type": "-"
      }
     },
     "source": [
      "$$\n",
      "\\begin{align*}\n",
      "a = {a_O \\over 1 + DK_O/eE} \\\\\n",
      "\\end{align*}\n",
      "$$"
     ]
    },
    {
     "cell_type": "code",
     "collapsed": false,
     "input": [
      "a_oil = 1420.0  # The speed of sound in oil (Paraffin Oil = 1420 m/s)\n",
      "K_oil = 1.66  # The bulk modulus of elasticity in oil (Paraffin Oil = 1.66 GPa (10^9 N/m^2))\n",
      "D = 1.  # The (inside?)pipe diameter in meters\n",
      "e = 0.025  # The pipe wall thickness in meters (let's say 25mm)\n",
      "E = 200.  # The modulus of elasticity of steel (Steel, Structural ASTM-A36 200 GPa (10^9 N/m^2))"
     ],
     "language": "python",
     "metadata": {},
     "outputs": [],
     "prompt_number": 21
    },
    {
     "cell_type": "code",
     "collapsed": false,
     "input": [
      "a = a_oil / (1 + ((D * K_oil) / (e * E)))\n",
      "print a"
     ],
     "language": "python",
     "metadata": {},
     "outputs": [
      {
       "output_type": "stream",
       "stream": "stdout",
       "text": [
        "1066.06606607\n"
       ]
      }
     ],
     "prompt_number": 22
    },
    {
     "cell_type": "markdown",
     "metadata": {},
     "source": [
      "It is convenient to account for the effect of pipewall elasticity through an adjustment in the bulk modulus of the oil such that the total volume expansion is accounted for by considering only the oil.\n",
      "Let $ \\beta $ be the ratio between the adjusted and real modulus of elasticity for the Oil such that:"
     ]
    },
    {
     "cell_type": "markdown",
     "metadata": {},
     "source": [
      "$$\n",
      "\\begin{align*}\n",
      "a^2 = {K \\over \\rho_O} = \\beta {K_O \\over \\rho_O} = {\\beta a_O} ^ 2\n",
      "\\end{align*}\n",
      "$$"
     ]
    },
    {
     "cell_type": "markdown",
     "metadata": {},
     "source": [
      "Where from our waterhammer analysis equation...\n",
      "$$\n",
      "\\begin{align*}\n",
      "\\beta = {1 \\over (1 + {DK_O \\over eE}) ^ 2} \\\\\n",
      "\\end{align*}\n",
      "$$"
     ]
    },
    {
     "cell_type": "code",
     "collapsed": false,
     "input": [
      "beta = 1 / (1 + ((D * K_oil) / (e * E))) ** 2\n",
      "print beta\n",
      "print beta * (a_oil ** 2), a ** 2\n",
      "print beta * (a_oil ** 2) == a ** 2"
     ],
     "language": "python",
     "metadata": {},
     "outputs": [
      {
       "output_type": "stream",
       "stream": "stdout",
       "text": [
        "0.563626689753\n",
        "1136496.85722 1136496.85722\n",
        "True\n"
       ]
      }
     ],
     "prompt_number": 23
    },
    {
     "cell_type": "markdown",
     "metadata": {},
     "source": [
      "*(Note: For a pipe of diameter 1m and wall thickness 25mm, we should find that $ \\beta $ has a range from 0.54 to 0.64)*"
     ]
    },
    {
     "cell_type": "markdown",
     "metadata": {},
     "source": [
      "*(Note: The range fo the modulus $ K_O $ is quite wide (12600 - 18400 atm), and The adjusted modulus shows a much smaller variation, (8030 - 9860 atm))*"
     ]
    },
    {
     "cell_type": "code",
     "collapsed": false,
     "input": [
      "gpa_to_atm = 9869.23266716\n",
      "print K_oil * gpa_to_atm\n",
      "print K_oil * beta * gpa_to_atm"
     ],
     "language": "python",
     "metadata": {},
     "outputs": [
      {
       "output_type": "stream",
       "stream": "stdout",
       "text": [
        "16382.9262275\n",
        "9233.85447806\n"
       ]
      }
     ],
     "prompt_number": 24
    },
    {
     "cell_type": "markdown",
     "metadata": {},
     "source": [
      "It is reasonable to use a single average value of 8950 atm for the adjusted modulus K in our engineering analysis.  Thus, a change in pressure of one atmosphere gives a relative change in volume of:\n",
      "$$\n",
      "{\\Delta V \\over V} = {\\Delta p \\over K} = {1 \\over 8950} = {0.000111}\n",
      "$$"
     ]
    },
    {
     "cell_type": "code",
     "collapsed": false,
     "input": [
      "K_avg = 8030 + ((9860 - 8030) / 2)\n",
      "print 1. / K_avg"
     ],
     "language": "python",
     "metadata": {},
     "outputs": [
      {
       "output_type": "stream",
       "stream": "stdout",
       "text": [
        "0.000111794298491\n"
       ]
      }
     ],
     "prompt_number": 25
    },
    {
     "cell_type": "heading",
     "level": 2,
     "metadata": {},
     "source": [
      "Slowdown due to friction"
     ]
    },
    {
     "cell_type": "markdown",
     "metadata": {},
     "source": [
      "The approximate analysis based on wave processes does not take into account the effects of friction.  If the pressure gradient $ p_{x_1} $ prior to the break is changed to a higher $ p_{x_2} $ in the time the wave requires to travel the length of the pipe, one can ask how fast the flow can adjust to the new boundary condition in the presence of frictional forces."
     ]
    },
    {
     "cell_type": "markdown",
     "metadata": {},
     "source": [
      "For an estimate of the \"adjustment time\" consider the equation for one-dimensional unsteady flow in a horizontal pipe of diameter D with appropriate boundary conditions:"
     ]
    },
    {
     "cell_type": "markdown",
     "metadata": {},
     "source": [
      "$$\n",
      "{1 \\over \\rho_O}{\\partial p \\over \\partial x} +\n",
      "{\\partial u \\over \\partial t} +\n",
      "{u {\\partial u \\over \\partial x}} +\n",
      "{2fu^2 \\over D} = 0\n",
      "$$"
     ]
    },
    {
     "cell_type": "markdown",
     "metadata": {},
     "source": [
      "For the present purposes we can assume the pipe to be infinitely long and the acceleration to be uniform in space,  i.e. $ {\\partial u \\over \\partial x} = 0 $\n",
      "Corresponding to the pressure gradients $ {\\partial p \\over \\partial x} = p_{x_1} $ and $ \u00a0p_{x_2} $ we have the steady state solutions $ u_1 $ and $ u_2 $.\n",
      "We are interested in the transient $ \\tilde{u} = u_2 - u_1 $, which appears when $ p_{x_1} $ is suddently replaced by $ p_{x_2} $.\n",
      "If $ \\tilde{u} $ is considered small, our one-dimensional unsteady flow equation can be linearized"
     ]
    },
    {
     "cell_type": "markdown",
     "metadata": {},
     "source": [
      "$$\n",
      "{\\partial \\tilde{u} \\over \\partial t} +\n",
      "{4f \\over D} u_1 \\tilde{u} =\n",
      "{\\Delta p_x \\over \\rho_O}\n",
      "$$"
     ]
    },
    {
     "cell_type": "markdown",
     "metadata": {},
     "source": [
      "where $ \\Delta p_x = p_{x_2} - p_{x_1} $.  The initial condition of interest is $ \\tilde{u} $ at $ t = 0 $ and the formal solution is"
     ]
    },
    {
     "cell_type": "markdown",
     "metadata": {},
     "source": [
      "$$\n",
      "\\tilde{u} = C(1 - e^{\\textstyle{-4fu_1 \\over D} t})\n",
      "$$"
     ]
    },
    {
     "cell_type": "markdown",
     "metadata": {},
     "source": [
      "with\n",
      "$$\n",
      "C = {\\Delta p_x \\over \\rho_O}\n",
      "{D \\over 4fu_1}\n",
      "$$"
     ]
    },
    {
     "cell_type": "markdown",
     "metadata": {},
     "source": [
      "The result of interest is the time constant appearing in the transient term ($ ^\\tau C = D / 4fu_1 $).\n",
      "It is a measure of the time required for flow adjustments in the presence of friction."
     ]
    },
    {
     "cell_type": "markdown",
     "metadata": {},
     "source": [
      "For turbulent flow a typical value of f is 0.006.\n",
      "With D = 1m and $ u_1 $ = 2.5 m/s, we find $ ^\\tau C = 16.7$ seconds; a rather rapid adjustment in comparison with the wave travel time and the anticipated \"reaction time\" for complete shutdown of the flow system."
     ]
    },
    {
     "cell_type": "code",
     "collapsed": false,
     "input": [
      "f = 0.006\n",
      "D = 1.\n",
      "u_1 = 2.5"
     ],
     "language": "python",
     "metadata": {},
     "outputs": [],
     "prompt_number": 26
    },
    {
     "cell_type": "code",
     "collapsed": false,
     "input": [
      "print D / (4 * f * u_1)"
     ],
     "language": "python",
     "metadata": {},
     "outputs": [
      {
       "output_type": "stream",
       "stream": "stdout",
       "text": [
        "16.6666666667\n"
       ]
      }
     ],
     "prompt_number": 28
    },
    {
     "cell_type": "heading",
     "level": 2,
     "metadata": {},
     "source": [
      "\"Early-time\" loss analyses"
     ]
    },
    {
     "cell_type": "markdown",
     "metadata": {},
     "source": [
      "The break is considered to occur at a point which divides the pipe of length $L$ into an \"active\" segment of length $L_1$ and a \"passive\" segment of length $L_2$"
     ]
    },
    {
     "cell_type": "markdown",
     "metadata": {},
     "source": [
      "The hydrostatic pressure at the breakpoint is $p_H = \\rho_WgH_B$ and the hydrostatic pressure in the oil is $p_{H_O} = \\rho_Og(H_B + \\Delta H_1)$\n",
      "where $\\Delta H_1$ is the elevation of the platform or terminal (assumed equal) above the water surface."
     ]
    },
    {
     "cell_type": "code",
     "collapsed": false,
     "input": [
      "g = 9.81  # m/s^2\n",
      "H_b = 100.  # height of water column at the break (200 meters)\n",
      "dH_p = 20.  # elevation of the platform above the water surface\n",
      "rho_w = 1030.  # density of seawater (kg/m^3, can vary with pressure, temperature, and salinity)\n",
      "rho_o = 800.  # oil density (Paraffin Oil = 800 kg/m^3)\n",
      "\n",
      "hp_b = rho_w * g * H_b  # hydrostatic pressure at the breakpoint (Pa or N/m^2)\n",
      "print hp_b / 1000  # print it in kPa\n",
      "\n",
      "hp_o = rho_o * g * (H_b + dH_p)  # hydrostatic pressure in the oil\n",
      "print hp_o / 1000"
     ],
     "language": "python",
     "metadata": {},
     "outputs": [
      {
       "output_type": "stream",
       "stream": "stdout",
       "text": [
        "1010.43\n",
        "941.76\n"
       ]
      }
     ],
     "prompt_number": 43
    },
    {
     "cell_type": "markdown",
     "metadata": {},
     "source": [
      "At the time of the break the pipeline pressure fluctuates abruptly from the initial value $p_{H_O}$ to $p_H$.\n",
      "An expansion wave is propagated from the break towards the end points.  This wave is gradually weakened and spread out in extent."
     ]
    },
    {
     "cell_type": "markdown",
     "metadata": {},
     "source": [
      "The first wave travels with the acoustic speed ($a$) of the pressurized line.  The times to reach the endpoints are $\\Delta t_1 = L_1 / a$ and $\\Delta t_2 = L_2 / a$."
     ]
    },
    {
     "cell_type": "code",
     "collapsed": false,
     "input": [
      "L_tot = 30000.\n",
      "L = [5000., L_tot - 5000]\n",
      "print L_tot, L\n",
      "delta_t = [L[0]/a]\n",
      "delta_t.append(L[1]/a)\n",
      "print delta_t"
     ],
     "language": "python",
     "metadata": {},
     "outputs": [
      {
       "output_type": "stream",
       "stream": "stdout",
       "text": [
        "30000.0 [5000.0, 25000.0]\n",
        "[4.690140845070422, 23.45070422535211]\n"
       ]
      }
     ],
     "prompt_number": 50
    },
    {
     "cell_type": "markdown",
     "metadata": {},
     "source": [
      "From $t = 0$ to $\\Delta t_1$, the flow rate passing through the pumps is not affected by the break.  The corresponding loss of oil represents the minimum shutdown loss if the shutdown process is initiated by pressure-sensing devices on the platform."
     ]
    },
    {
     "cell_type": "markdown",
     "metadata": {},
     "source": [
      "For turbulent flow, the flow rate in the pipeline is very nearly proportional to the square root of the pressure drop between the end points.\n",
      "The interval between the time the signal is received and the time the pumps are shut down is denoted $t_2$ (reaction time), and the total time elapsed at shutdown, $t_{sd} = \\Delta t_1 + t_2$.  For $\\Delta t_1 < t < t_{sd}$, the flow rate $\\dot{Q}$ increases by the ratio"
     ]
    },
    {
     "cell_type": "markdown",
     "metadata": {},
     "source": [
      "$$\n",
      "{\\dot{Q_t} > \\Delta t_1 \\over \\dot{Q_t} < \\Delta t_1} \\cong\n",
      "\\begin{bmatrix}\n",
      "    {(p_1 - \\Delta p_H) \\over (p_1 - p_B)}\n",
      "\\end{bmatrix}\n",
      "^{1/2}\n",
      "$$"
     ]
    },
    {
     "cell_type": "markdown",
     "metadata": {},
     "source": [
      "*(Note: Here, $\\dot{Q_t}$ means ${\\partial \\over \\partial t}Q(t)$)*"
     ]
    },
    {
     "cell_type": "markdown",
     "metadata": {},
     "source": [
      "I believe what we are expressing here is the flow rate after $\\Delta t_1$ divided by the flow rate before $\\Delta t_1$.  But the congruance suggests a matrix calculation of some kind.  **Probably need some clarification here.**"
     ]
    },
    {
     "cell_type": "markdown",
     "metadata": {},
     "source": [
      "Anyway, the flow rate $\\dot{Q}$ increases by the ratio above where:\n",
      "- $p_1 - p_B = L_1(p_1 - p_2) / L$ represents the effective pressure gradient driving the oil in the unbroken pipeline\n",
      "- $\\Delta p_H$, the effective counterpressure after the break, is given by the difference between the hydrostatic pressures $p_H$ and $p_{H_O}$, $\\Delta p_H = p_H - p_{H_O}$"
     ]
    },
    {
     "cell_type": "markdown",
     "metadata": {},
     "source": [
      "The flow rate equation above does not take into account the time required to accelerate the flow in the active segment from the flow rate prior to the break tot he new rate corresponding to the hydrostatic pressure at point B.\n",
      "A correction is necessary only if the time of adjustment to the new flow rate is of the same order as t2; the \"reaction time\".\n",
      "in normal operation the reaction time is expected to be substantially nonger than the adjustment time, and a correction is hardly worthwhile.\n",
      "The loss $\\Delta Q_L$ associated with shutdown for a given flow rate $\\dot{Q}$ can therefore be expressed as:"
     ]
    },
    {
     "cell_type": "markdown",
     "metadata": {},
     "source": [
      "$$\n",
      "(\\Delta Q_1)_{sd} = {\\dot{Q} \\Delta t_1} + {(t_{sd} - \\Delta t_1)}\n",
      "{( {p_1 - \\Delta p_H \\over p_1 - p_B} )}^{1/2}\n",
      "$$"
     ]
    },
    {
     "cell_type": "code",
     "collapsed": false,
     "input": [],
     "language": "python",
     "metadata": {},
     "outputs": []
    }
   ],
   "metadata": {}
  }
 ]
}