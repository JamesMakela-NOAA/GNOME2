{
 "metadata": {
  "name": "",
  "signature": "sha256:e4261daf72ab16c482dcb760ace9cc4078c33a15234e8e44f0ed796c16e6e7c8"
 },
 "nbformat": 3,
 "nbformat_minor": 0,
 "worksheets": [
  {
   "cells": [
    {
     "cell_type": "heading",
     "level": 1,
     "metadata": {},
     "source": [
      "Update on underwater, pressurized, pipeline release model"
     ]
    },
    {
     "cell_type": "markdown",
     "metadata": {},
     "source": [
      "<center>\n",
      "by Debra Simecek-Beatty<br>\n",
      "April 24, 2014\n",
      "</center>"
     ]
    },
    {
     "cell_type": "heading",
     "level": 2,
     "metadata": {},
     "source": [
      "<center><u>Pipeline Model Presentation</u></center>"
     ]
    },
    {
     "cell_type": "markdown",
     "metadata": {},
     "source": [
      "Some Model organization and assumptions:\n",
      "- Early time loss taken from Fannelop (1977)\n",
      "- Late-time loss taken from Brooke-Benjamin (1968) & Fannelop (1977)\n",
      "- Case Studies taken from Moor et al (1999) & Gobert et al (2008)"
     ]
    },
    {
     "cell_type": "heading",
     "level": 3,
     "metadata": {},
     "source": [
      "User Input"
     ]
    },
    {
     "cell_type": "markdown",
     "metadata": {},
     "source": [
      "Early-Time Loss will be defined as:\n",
      "- Oil lost prior to shut-in\n",
      "- Oil lost due to momentum and compressibility"
     ]
    },
    {
     "cell_type": "markdown",
     "metadata": {},
     "source": [
      "Late-Time Loss will be defined as:\n",
      "- Oil lost due to water intrusion assuming inviscid and then viscous flow"
     ]
    },
    {
     "cell_type": "markdown",
     "metadata": {},
     "source": [
      "Underwater Plume Model *(**need some elaboration here**)*:\n",
      "- Classic integral model (momentum and buoyancy)"
     ]
    },
    {
     "cell_type": "heading",
     "level": 2,
     "metadata": {},
     "source": [
      "<center><u>Model Assumptions</u></center>"
     ]
    },
    {
     "cell_type": "markdown",
     "metadata": {},
     "source": [
      "- The petroleum product is single phase, buoyant, and not 'overly viscous'.\n",
      "- We are dealing with a high pressure pipeline *(low velocity but high flow rates due to large diameter)*.\n",
      "- The pipeline has been suddenly severed by a 'clean cut'.\n",
      "- The opening equals the width of the pipe.\n",
      "- The Break has occurred a considerable distance from end points of the pipe.\n",
      "- The oil temperature is equal to the ambient water temperature.\n",
      "- The Pipeline is very long and assumed to be horizontal.\n",
      "- The early-time loss is turbulent (Reynolds number (Re) > 4000)"
     ]
    },
    {
     "cell_type": "heading",
     "level": 2,
     "metadata": {},
     "source": [
      "<center><u>Early-time Losses</u></center>"
     ]
    },
    {
     "cell_type": "markdown",
     "metadata": {},
     "source": [
      "The following processes are assumed uncoupled and unaffected by overlap in time:\n",
      "- Total shutdown time loss\n",
      "- Compressibility loss\n",
      "- Initial momentum loss"
     ]
    },
    {
     "cell_type": "markdown",
     "metadata": {},
     "source": [
      "Input parameters and their Definitions:\n",
      "- $L$ = total length of pipeline\n",
      "- $L_1$ = Active pipeline segment\n",
      "- $L_2$ = Passive pipeline segment\n",
      "- $H$ = Height of the water column *(or water depth at the break)*\n",
      "- $\\Delta H_1$ = Elevation of the platform above water surface"
     ]
    },
    {
     "cell_type": "code",
     "collapsed": false,
     "input": [],
     "language": "python",
     "metadata": {},
     "outputs": []
    }
   ],
   "metadata": {}
  }
 ]
}